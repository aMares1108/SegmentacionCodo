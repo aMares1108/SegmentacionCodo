{
  "nbformat": 4,
  "nbformat_minor": 0,
  "metadata": {
    "colab": {
      "provenance": [],
      "mount_file_id": "1LpLmX5siiFcWKI23uwvk_SFip2zRn43d",
      "authorship_tag": "ABX9TyMLnRN1EYqlHu4ZBsWKb0sL",
      "include_colab_link": true
    },
    "kernelspec": {
      "name": "python3",
      "display_name": "Python 3"
    },
    "language_info": {
      "name": "python"
    }
  },
  "cells": [
    {
      "cell_type": "markdown",
      "metadata": {
        "id": "view-in-github",
        "colab_type": "text"
      },
      "source": [
        "<a href=\"https://colab.research.google.com/github/aMares1108/SegmentacionCodo/blob/main/MetodoDelCodo.ipynb\" target=\"_parent\"><img src=\"https://colab.research.google.com/assets/colab-badge.svg\" alt=\"Open In Colab\"/></a>"
      ]
    },
    {
      "cell_type": "markdown",
      "source": [
        "<H1>Método del codo\n",
        "\n",
        "Método para determinar el número óptimo de clústers en un dataset.\n",
        "\n",
        "La metodología establece que el número óptimo es donde la curva comienza a tener una pendiente constante."
      ],
      "metadata": {
        "id": "kCLoC_bDeIeW"
      }
    },
    {
      "cell_type": "code",
      "source": [
        "import cv2 as cv\n",
        "# from google.colab.patches import cv2_imshow as imshow\n",
        "im = cv.imread('images (2).jpeg')\n",
        "im = cv.resize(im, [32, 24])\n",
        "\n",
        "import numpy as np\n",
        "from numpy import linalg as la\n",
        "np.seterr(all='print')\n",
        "\n",
        "x = im.reshape((1,-1,3))[0].astype('double')\n",
        "n,m = x.shape\n",
        "\n",
        "# Cálculo de centroides por método de Ponce\n",
        "\n",
        "# Matriz inicial proponiendo 3 clústers\n",
        "#c = 5\n",
        "\n",
        "def Ponce(x, u, c):\n",
        "  # Cálculo de centroides \n",
        "  try:\n",
        "    v = np.array([\n",
        "        [\n",
        "          sum(x[:,j]*u[i]) for j in range(m)\n",
        "        ]/sum(u[i]) for i in range(c)\n",
        "      ]     \n",
        "    ) # C-Cluster 1, C-Cluster 2, C-Cluster 3\n",
        "  except Warning as e:\n",
        "    print(e)\n",
        "\n",
        "  # Cálculo de las distancias\n",
        "  d = la.norm(\n",
        "    np.tile(x,(c,1,1))-\n",
        "    np.tile(v.reshape((1,c,m)).swapaxes(0,1),(n,1))\n",
        "    , axis=2)\n",
        "\n",
        "  # Actualización de U\n",
        "  d = d.argmin(0).reshape(1,-1)\n",
        "  u = np.zeros_like(u)\n",
        "  grid = np.indices((1,n))[1]\n",
        "  u[d,grid] = 1\n",
        "\n",
        "  return v,u,d\n",
        "\n",
        "def km(c,x):\n",
        "  u = np.random.normal(size=(c,n-c))\n",
        "  u = u/u.sum(0) # Normalización de la matriz\n",
        "  d = u.argmax(0).reshape(1,-1)\n",
        "  u = np.zeros_like(u)\n",
        "  grid = np.indices((1,n-c))[1]\n",
        "  u[d,grid] = 1\n",
        "  u = np.concatenate((u,np.eye(c)), axis=1)\n",
        "\n",
        "  # Cálculo de centroides inicial\n",
        "  v, u, df = Ponce(x,u, c)\n",
        "\n",
        "  u_ = np.zeros_like(u)\n",
        "  eps = 0\n",
        "  norm = 1\n",
        "  while(norm>eps):\n",
        "    u_ = u\n",
        "    v, u, df = Ponce(x,u, c)\n",
        "    norm = la.norm(u-u_)\n",
        "\n",
        "  return v,u,df.min(0)\n",
        "\n",
        "import matplotlib.pyplot as pl\n",
        "\n",
        "pl.figure()\n",
        "k = 5\n",
        "d_ = np.zeros(k)\n",
        "for i in range(k):\n",
        "  v,u,d = km(i+2,x)\n",
        "  d_[i] = (d**2).sum()/n\n",
        "  print(i)\n",
        "\n",
        "pl.plot(np.arange(k)+2, d_, marker='x')\n",
        "pl.show()"
      ],
      "metadata": {
        "colab": {
          "base_uri": "https://localhost:8080/",
          "height": 517
        },
        "id": "2VYv4dzrb9n8",
        "outputId": "cb93d240-0ed2-433a-e7e6-c8be59a72335"
      },
      "execution_count": 3,
      "outputs": [
        {
          "output_type": "stream",
          "name": "stdout",
          "text": [
            "0\n",
            "1\n",
            "2\n",
            "3\n",
            "4\n"
          ]
        },
        {
          "output_type": "display_data",
          "data": {
            "text/plain": [
              "<Figure size 640x480 with 1 Axes>"
            ],
            "image/png": "[encoded data removed]"
          },
          "metadata": {}
        }
      ]
    }
  ]
}